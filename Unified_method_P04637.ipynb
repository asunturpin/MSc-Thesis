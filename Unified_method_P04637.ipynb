{
 "cells": [
  {
   "cell_type": "markdown",
   "id": "49b40dee",
   "metadata": {},
   "source": [
    "# Unified Method using a UniProt ID and Species Names (P04637 in this work)"
   ]
  },
  {
   "cell_type": "markdown",
   "id": "5dfce678",
   "metadata": {},
   "source": [
    "# 1. Libraries and functions import"
   ]
  },
  {
   "cell_type": "code",
   "execution_count": 50,
   "id": "4f37ffe7",
   "metadata": {},
   "outputs": [],
   "source": [
    "import nbimporter\n",
    "import pandas as pd\n",
    "import libraries_functions as lf"
   ]
  },
  {
   "cell_type": "markdown",
   "id": "a163ed02",
   "metadata": {},
   "source": [
    "# 2. Configuring GraphDB connection"
   ]
  },
  {
   "cell_type": "code",
   "execution_count": 51,
   "id": "f1d1dc20",
   "metadata": {},
   "outputs": [],
   "source": [
    "sparql_inparanoid = lf.configure_sparql(\"https://semantics.inf.um.es:7200/repositories/orthoxml\",\"admin\", \"minegraph\")\n",
    "sparql_oma = lf.configure_sparql(\"https://sparql.omabrowser.org/sparql\")"
   ]
  },
  {
   "cell_type": "markdown",
   "id": "b9dec07a",
   "metadata": {},
   "source": [
    "# 3. Enter the species and Uniprot ID for the search of ortholog genes"
   ]
  },
  {
   "cell_type": "code",
   "execution_count": 58,
   "id": "0b83b1c6",
   "metadata": {},
   "outputs": [
    {
     "name": "stdout",
     "output_type": "stream",
     "text": [
      "Enter the first species for which you want to search for ortholog genes: \n",
      "Homo sapiens\n",
      "Enter the Uniprot ID of the first especies for the orthologs you want to search for in the second species: \n",
      "P04637\n",
      "Enter the second species for which you want to search for ortholog genes: \n",
      "Mus musculus\n"
     ]
    }
   ],
   "source": [
    "species1 = input(\"Enter the first species for which you want to search for ortholog genes: \\n\")\n",
    "uniprot_id = input(\"Enter the Uniprot ID of the first especies for the orthologs you want to search for in the second species: \\n\"); \n",
    "species2 = input(\"Enter the second species for which you want to search for ortholog genes: \\n\");\n",
    "\n",
    "lf.check_species(species1)\n",
    "if uniprot_id.isupper() is False:\n",
    "    print(\"Error. Enter a valid Uniprot ID in capital letters\")\n",
    "lf.check_species(species2)"
   ]
  },
  {
   "cell_type": "code",
   "execution_count": 60,
   "id": "1faef7b5",
   "metadata": {},
   "outputs": [
    {
     "data": {
      "text/html": [
       "<div>\n",
       "<style scoped>\n",
       "    .dataframe tbody tr th:only-of-type {\n",
       "        vertical-align: middle;\n",
       "    }\n",
       "\n",
       "    .dataframe tbody tr th {\n",
       "        vertical-align: top;\n",
       "    }\n",
       "\n",
       "    .dataframe thead th {\n",
       "        text-align: right;\n",
       "    }\n",
       "</style>\n",
       "<table border=\"1\" class=\"dataframe\">\n",
       "  <thead>\n",
       "    <tr style=\"text-align: right;\">\n",
       "      <th></th>\n",
       "      <th>UniProt ID 1</th>\n",
       "      <th>Species 1</th>\n",
       "      <th>UniProt ID 2</th>\n",
       "      <th>Species 2</th>\n",
       "      <th>source</th>\n",
       "    </tr>\n",
       "  </thead>\n",
       "  <tbody>\n",
       "    <tr>\n",
       "      <th>0</th>\n",
       "      <td>P04637</td>\n",
       "      <td>Homo sapiens</td>\n",
       "      <td>A0A158SIS7</td>\n",
       "      <td>Mus musculus</td>\n",
       "      <td>OMA</td>\n",
       "    </tr>\n",
       "    <tr>\n",
       "      <th>1</th>\n",
       "      <td>P04637</td>\n",
       "      <td>Homo sapiens</td>\n",
       "      <td>O70366</td>\n",
       "      <td>Mus musculus</td>\n",
       "      <td>OMA</td>\n",
       "    </tr>\n",
       "    <tr>\n",
       "      <th>2</th>\n",
       "      <td>P04637</td>\n",
       "      <td>Homo sapiens</td>\n",
       "      <td>P02340</td>\n",
       "      <td>Mus musculus</td>\n",
       "      <td>OMA</td>\n",
       "    </tr>\n",
       "    <tr>\n",
       "      <th>3</th>\n",
       "      <td>P04637</td>\n",
       "      <td>Homo sapiens</td>\n",
       "      <td>P53_MOUSE</td>\n",
       "      <td>Mus musculus</td>\n",
       "      <td>OMA</td>\n",
       "    </tr>\n",
       "    <tr>\n",
       "      <th>4</th>\n",
       "      <td>P04637</td>\n",
       "      <td>Homo sapiens</td>\n",
       "      <td>Q549C9</td>\n",
       "      <td>Mus musculus</td>\n",
       "      <td>OMA</td>\n",
       "    </tr>\n",
       "    <tr>\n",
       "      <th>5</th>\n",
       "      <td>P04637</td>\n",
       "      <td>Homo sapiens</td>\n",
       "      <td>Q91XH8</td>\n",
       "      <td>Mus musculus</td>\n",
       "      <td>OMA</td>\n",
       "    </tr>\n",
       "    <tr>\n",
       "      <th>6</th>\n",
       "      <td>P04637</td>\n",
       "      <td>Homo sapiens</td>\n",
       "      <td>P02340</td>\n",
       "      <td>Mus musculus</td>\n",
       "      <td>InParanoid</td>\n",
       "    </tr>\n",
       "  </tbody>\n",
       "</table>\n",
       "</div>"
      ],
      "text/plain": [
       "  UniProt ID 1     Species 1 UniProt ID 2     Species 2      source\n",
       "0       P04637  Homo sapiens   A0A158SIS7  Mus musculus         OMA\n",
       "1       P04637  Homo sapiens       O70366  Mus musculus         OMA\n",
       "2       P04637  Homo sapiens       P02340  Mus musculus         OMA\n",
       "3       P04637  Homo sapiens    P53_MOUSE  Mus musculus         OMA\n",
       "4       P04637  Homo sapiens       Q549C9  Mus musculus         OMA\n",
       "5       P04637  Homo sapiens       Q91XH8  Mus musculus         OMA\n",
       "6       P04637  Homo sapiens       P02340  Mus musculus  InParanoid"
      ]
     },
     "execution_count": 60,
     "metadata": {},
     "output_type": "execute_result"
    }
   ],
   "source": [
    "results_inparanoid = lf.query_InParanoid(sparql_inparanoid, uniprot_id, species1, species2)\n",
    "results_inparanoid['source'] = 'InParanoid'\n",
    "results_oma = lf.query_OMA(sparql_oma, uniprot_id, species1, species2)\n",
    "results_oma['source'] = 'OMA'\n",
    "\n",
    "combined_df = pd.concat([results_oma, results_inparanoid], ignore_index=True)\n",
    "combined_df"
   ]
  },
  {
   "cell_type": "markdown",
   "id": "1fb2cc69",
   "metadata": {},
   "source": [
    "# 4. Counting orthologous gene ocurrences in each database "
   ]
  },
  {
   "cell_type": "code",
   "execution_count": 37,
   "id": "5b2b7930",
   "metadata": {},
   "outputs": [],
   "source": [
    "ortholog_counts = combined_df['UniProt ID 2'].value_counts().reset_index()\n",
    "ortholog_counts.columns = ['UniProt ID 2', 'Count']"
   ]
  },
  {
   "cell_type": "markdown",
   "id": "815566d0",
   "metadata": {},
   "source": [
    "# 5. Add column to check curated proteins"
   ]
  },
  {
   "cell_type": "code",
   "execution_count": 61,
   "id": "c5e8853e",
   "metadata": {},
   "outputs": [
    {
     "data": {
      "text/html": [
       "<div>\n",
       "<style scoped>\n",
       "    .dataframe tbody tr th:only-of-type {\n",
       "        vertical-align: middle;\n",
       "    }\n",
       "\n",
       "    .dataframe tbody tr th {\n",
       "        vertical-align: top;\n",
       "    }\n",
       "\n",
       "    .dataframe thead th {\n",
       "        text-align: right;\n",
       "    }\n",
       "</style>\n",
       "<table border=\"1\" class=\"dataframe\">\n",
       "  <thead>\n",
       "    <tr style=\"text-align: right;\">\n",
       "      <th></th>\n",
       "      <th>UniProt ID 2</th>\n",
       "      <th>Count</th>\n",
       "      <th>Curated</th>\n",
       "      <th>Reliability score</th>\n",
       "    </tr>\n",
       "  </thead>\n",
       "  <tbody>\n",
       "    <tr>\n",
       "      <th>0</th>\n",
       "      <td>P02340</td>\n",
       "      <td>2</td>\n",
       "      <td>True</td>\n",
       "      <td>100.0</td>\n",
       "    </tr>\n",
       "    <tr>\n",
       "      <th>3</th>\n",
       "      <td>P53_MOUSE</td>\n",
       "      <td>1</td>\n",
       "      <td>True</td>\n",
       "      <td>75.0</td>\n",
       "    </tr>\n",
       "    <tr>\n",
       "      <th>1</th>\n",
       "      <td>A0A158SIS7</td>\n",
       "      <td>1</td>\n",
       "      <td>False</td>\n",
       "      <td>25.0</td>\n",
       "    </tr>\n",
       "    <tr>\n",
       "      <th>2</th>\n",
       "      <td>Q91XH8</td>\n",
       "      <td>1</td>\n",
       "      <td>False</td>\n",
       "      <td>25.0</td>\n",
       "    </tr>\n",
       "    <tr>\n",
       "      <th>4</th>\n",
       "      <td>O70366</td>\n",
       "      <td>1</td>\n",
       "      <td>False</td>\n",
       "      <td>25.0</td>\n",
       "    </tr>\n",
       "    <tr>\n",
       "      <th>5</th>\n",
       "      <td>Q549C9</td>\n",
       "      <td>1</td>\n",
       "      <td>False</td>\n",
       "      <td>25.0</td>\n",
       "    </tr>\n",
       "  </tbody>\n",
       "</table>\n",
       "</div>"
      ],
      "text/plain": [
       "  UniProt ID 2  Count  Curated  Reliability score\n",
       "0       P02340      2     True              100.0\n",
       "3    P53_MOUSE      1     True               75.0\n",
       "1   A0A158SIS7      1    False               25.0\n",
       "2       Q91XH8      1    False               25.0\n",
       "4       O70366      1    False               25.0\n",
       "5       Q549C9      1    False               25.0"
      ]
     },
     "execution_count": 61,
     "metadata": {},
     "output_type": "execute_result"
    }
   ],
   "source": [
    "ortholog_counts['Curated'] = ortholog_counts['UniProt ID 2'].apply(lf.is_curated)\n",
    "ortholog_counts"
   ]
  },
  {
   "cell_type": "markdown",
   "id": "c37745f2",
   "metadata": {},
   "source": [
    "# 6. Counting number of databases and applying score"
   ]
  },
  {
   "cell_type": "code",
   "execution_count": 62,
   "id": "b3167b17",
   "metadata": {},
   "outputs": [
    {
     "data": {
      "text/html": [
       "<div>\n",
       "<style scoped>\n",
       "    .dataframe tbody tr th:only-of-type {\n",
       "        vertical-align: middle;\n",
       "    }\n",
       "\n",
       "    .dataframe tbody tr th {\n",
       "        vertical-align: top;\n",
       "    }\n",
       "\n",
       "    .dataframe thead th {\n",
       "        text-align: right;\n",
       "    }\n",
       "</style>\n",
       "<table border=\"1\" class=\"dataframe\">\n",
       "  <thead>\n",
       "    <tr style=\"text-align: right;\">\n",
       "      <th></th>\n",
       "      <th>UniProt ID 2</th>\n",
       "      <th>Count</th>\n",
       "      <th>Curated</th>\n",
       "      <th>Reliability score</th>\n",
       "    </tr>\n",
       "  </thead>\n",
       "  <tbody>\n",
       "    <tr>\n",
       "      <th>0</th>\n",
       "      <td>P02340</td>\n",
       "      <td>2</td>\n",
       "      <td>True</td>\n",
       "      <td>100.0</td>\n",
       "    </tr>\n",
       "    <tr>\n",
       "      <th>3</th>\n",
       "      <td>P53_MOUSE</td>\n",
       "      <td>1</td>\n",
       "      <td>True</td>\n",
       "      <td>75.0</td>\n",
       "    </tr>\n",
       "    <tr>\n",
       "      <th>1</th>\n",
       "      <td>A0A158SIS7</td>\n",
       "      <td>1</td>\n",
       "      <td>False</td>\n",
       "      <td>25.0</td>\n",
       "    </tr>\n",
       "    <tr>\n",
       "      <th>2</th>\n",
       "      <td>Q91XH8</td>\n",
       "      <td>1</td>\n",
       "      <td>False</td>\n",
       "      <td>25.0</td>\n",
       "    </tr>\n",
       "    <tr>\n",
       "      <th>4</th>\n",
       "      <td>O70366</td>\n",
       "      <td>1</td>\n",
       "      <td>False</td>\n",
       "      <td>25.0</td>\n",
       "    </tr>\n",
       "    <tr>\n",
       "      <th>5</th>\n",
       "      <td>Q549C9</td>\n",
       "      <td>1</td>\n",
       "      <td>False</td>\n",
       "      <td>25.0</td>\n",
       "    </tr>\n",
       "  </tbody>\n",
       "</table>\n",
       "</div>"
      ],
      "text/plain": [
       "  UniProt ID 2  Count  Curated  Reliability score\n",
       "0       P02340      2     True              100.0\n",
       "3    P53_MOUSE      1     True               75.0\n",
       "1   A0A158SIS7      1    False               25.0\n",
       "2       Q91XH8      1    False               25.0\n",
       "4       O70366      1    False               25.0\n",
       "5       Q549C9      1    False               25.0"
      ]
     },
     "execution_count": 62,
     "metadata": {},
     "output_type": "execute_result"
    }
   ],
   "source": [
    "#Count databases number\n",
    "num_databases = 2\n",
    "\n",
    "\n",
    "#Apply score function\n",
    "ortholog_counts['Reliability score'] = ortholog_counts.apply(lf.assign_score, total_databases=num_databases, axis=1)\n",
    "ortholog_counts"
   ]
  },
  {
   "cell_type": "markdown",
   "id": "c3c77149",
   "metadata": {},
   "source": [
    "# 7. Sorting results in descending order"
   ]
  },
  {
   "cell_type": "code",
   "execution_count": 63,
   "id": "1c54e86a",
   "metadata": {},
   "outputs": [
    {
     "data": {
      "text/html": [
       "<div>\n",
       "<style scoped>\n",
       "    .dataframe tbody tr th:only-of-type {\n",
       "        vertical-align: middle;\n",
       "    }\n",
       "\n",
       "    .dataframe tbody tr th {\n",
       "        vertical-align: top;\n",
       "    }\n",
       "\n",
       "    .dataframe thead th {\n",
       "        text-align: right;\n",
       "    }\n",
       "</style>\n",
       "<table border=\"1\" class=\"dataframe\">\n",
       "  <thead>\n",
       "    <tr style=\"text-align: right;\">\n",
       "      <th></th>\n",
       "      <th>UniProt ID 2</th>\n",
       "      <th>Count</th>\n",
       "      <th>Curated</th>\n",
       "      <th>Reliability score</th>\n",
       "    </tr>\n",
       "  </thead>\n",
       "  <tbody>\n",
       "    <tr>\n",
       "      <th>0</th>\n",
       "      <td>P02340</td>\n",
       "      <td>2</td>\n",
       "      <td>True</td>\n",
       "      <td>100.0</td>\n",
       "    </tr>\n",
       "    <tr>\n",
       "      <th>3</th>\n",
       "      <td>P53_MOUSE</td>\n",
       "      <td>1</td>\n",
       "      <td>True</td>\n",
       "      <td>75.0</td>\n",
       "    </tr>\n",
       "    <tr>\n",
       "      <th>1</th>\n",
       "      <td>A0A158SIS7</td>\n",
       "      <td>1</td>\n",
       "      <td>False</td>\n",
       "      <td>25.0</td>\n",
       "    </tr>\n",
       "    <tr>\n",
       "      <th>2</th>\n",
       "      <td>Q91XH8</td>\n",
       "      <td>1</td>\n",
       "      <td>False</td>\n",
       "      <td>25.0</td>\n",
       "    </tr>\n",
       "    <tr>\n",
       "      <th>4</th>\n",
       "      <td>O70366</td>\n",
       "      <td>1</td>\n",
       "      <td>False</td>\n",
       "      <td>25.0</td>\n",
       "    </tr>\n",
       "    <tr>\n",
       "      <th>5</th>\n",
       "      <td>Q549C9</td>\n",
       "      <td>1</td>\n",
       "      <td>False</td>\n",
       "      <td>25.0</td>\n",
       "    </tr>\n",
       "  </tbody>\n",
       "</table>\n",
       "</div>"
      ],
      "text/plain": [
       "  UniProt ID 2  Count  Curated  Reliability score\n",
       "0       P02340      2     True              100.0\n",
       "3    P53_MOUSE      1     True               75.0\n",
       "1   A0A158SIS7      1    False               25.0\n",
       "2       Q91XH8      1    False               25.0\n",
       "4       O70366      1    False               25.0\n",
       "5       Q549C9      1    False               25.0"
      ]
     },
     "execution_count": 63,
     "metadata": {},
     "output_type": "execute_result"
    }
   ],
   "source": [
    "#Ordenar los resultados en orden descendente\n",
    "ortholog_counts = ortholog_counts.sort_values(by='Reliability score', ascending=False)\n",
    "\n",
    "#Mostrar los resultados finales\n",
    "ortholog_counts"
   ]
  }
 ],
 "metadata": {
  "kernelspec": {
   "display_name": "Python3.6",
   "language": "python",
   "name": "python3.6"
  },
  "language_info": {
   "codemirror_mode": {
    "name": "ipython",
    "version": 3
   },
   "file_extension": ".py",
   "mimetype": "text/x-python",
   "name": "python",
   "nbconvert_exporter": "python",
   "pygments_lexer": "ipython3",
   "version": "3.6.8"
  }
 },
 "nbformat": 4,
 "nbformat_minor": 5
}
