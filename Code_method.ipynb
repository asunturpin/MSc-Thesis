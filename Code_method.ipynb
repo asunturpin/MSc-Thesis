{
 "cells": [
  {
   "cell_type": "markdown",
   "id": "5dfce678",
   "metadata": {},
   "source": [
    "# 1. Library imports"
   ]
  },
  {
   "cell_type": "code",
   "execution_count": 1,
   "id": "04897f6d",
   "metadata": {},
   "outputs": [],
   "source": [
    "import certifi\n",
    "from SPARQLWrapper import SPARQLWrapper, JSON #To send SPARQL queries and to return results in JSON format\n",
    "import os\n",
    "import requests #To make easy HTTP request. Useful to interact with APIs.\n",
    "import pandas as pd #To manipule and analyze data"
   ]
  },
  {
   "cell_type": "markdown",
   "id": "a9c626d7",
   "metadata": {},
   "source": [
    "# 2. Security SSL"
   ]
  },
  {
   "cell_type": "code",
   "execution_count": 4,
   "id": "059f2966",
   "metadata": {},
   "outputs": [],
   "source": [
    "certifi_path = certifi.where()\n",
    "os.environ[\"SSL_CERT_FILE\"]=certifi_path\n",
    "os.environ[\"REQUESTS_CA_BUNDLE\"]=certifi_path"
   ]
  },
  {
   "cell_type": "markdown",
   "id": "c61fdefe",
   "metadata": {},
   "source": [
    "# 3. Function definition"
   ]
  },
  {
   "cell_type": "markdown",
   "id": "3ab46c9c",
   "metadata": {},
   "source": [
    "## 3.1 Configuring endpoint, establishing credentials and defining output format"
   ]
  },
  {
   "cell_type": "code",
   "execution_count": null,
   "id": "a97cddc6",
   "metadata": {},
   "outputs": [],
   "source": [
    "def configure_sparql(endpoint_url, user=None, password=None):\n",
    "    sparql = SPARQLWrapper(endpoint_url)\n",
    "    if user and password:\n",
    "        sparql.setCredentials(user, password)\n",
    "    sparql.setReturnFormat(JSON)\n",
    "    return sparql"
   ]
  },
  {
   "cell_type": "markdown",
   "id": "dcbb0001",
   "metadata": {},
   "source": [
    "## 3.2 Query execution "
   ]
  },
  {
   "cell_type": "code",
   "execution_count": null,
   "id": "3619e5ce",
   "metadata": {},
   "outputs": [],
   "source": [
    "def execute_query(sparql, query):\n",
    "    try:\n",
    "        sparql.setQuery(query)\n",
    "        results=sparql.queryAndConvert()\n",
    "        return results\n",
    "    except Exception as e:\n",
    "        print(f\"Error al ejecutar la consulta SPARQL: {str(e)}\")\n",
    "        return None"
   ]
  },
  {
   "cell_type": "markdown",
   "id": "3e42e77e",
   "metadata": {},
   "source": [
    "## 3.3 Inparanoid query"
   ]
  },
  {
   "cell_type": "code",
   "execution_count": null,
   "id": "3194f418",
   "metadata": {},
   "outputs": [],
   "source": [
    "def query_InParanoid(sparql, uniprot_id, species1, species2):\n",
    "    query = f\"\"\"\n",
    "    PREFIX orthology: <http://purl.org/net/orth#>\n",
    "    PREFIX orth: <http://purl.org/net/orth#>\n",
    "    PREFIX obo: <http://purl.obolibrary.org/obo/>\n",
    "    PREFIX rdfs: <http://www.w3.org/2000/01/rdf-schema#>\n",
    "    PREFIX resource: <http://semanticscience.org/resource/>\n",
    "\n",
    "    SELECT DISTINCT ?iduniprot1 ?iduniprot2 ?species1 ?species2\n",
    "    WHERE {{\n",
    "      GRAPH <http://semantics.inf.um.es/inparanoid> {{\n",
    "        ?cluster a orth:OrthologsCluster ;\n",
    "                 orthology:hasHomologousMember ?node1 ;\n",
    "                 orthology:hasHomologousMember ?node2 .\n",
    "        ?node1 rdfs:label ?geneid1 ;\n",
    "               resource:SIO_010078 ?uniprot1 .\n",
    "        ?uniprot1 a orthology:Protein ;\n",
    "                  rdfs:label ?iduniprot1 ;\n",
    "                  obo:RO_0002162 ?taxid1 .\n",
    "        ?taxid1 rdfs:label ?species1 .\n",
    "        ?node2 rdfs:label ?geneid2 ;\n",
    "               resource:SIO_010078 ?uniprot2 .\n",
    "        ?uniprot2 a orthology:Protein ;\n",
    "                  rdfs:label ?iduniprot2 ;\n",
    "                  obo:RO_0002162 ?taxid2 .\n",
    "        ?taxid2 rdfs:label ?species2 .\n",
    "        FILTER (?node1 != ?node2 && ?species1 != ?species2)\n",
    "        VALUES (?iduniprot1 ?species1 ?species2) {{(\"{uniprot_id}\" \"{species1}\" \"{species2}\")}}\n",
    "      }}\n",
    "    }}\n",
    "    LIMIT 100\n",
    "    \"\"\"\n",
    "\n",
    "    results = execute_query(sparql, query)\n",
    "    data = []\n",
    "    if results:\n",
    "        for result in results[\"results\"][\"bindings\"]:\n",
    "            data.append({\n",
    "                \"UniProt ID 1\": result.get(\"iduniprot1\", {}).get(\"value\", \"\"),\n",
    "                \"Species 1\": result.get(\"species1\", {}).get(\"value\", \"\"),\n",
    "                \"UniProt ID 2\": result.get(\"iduniprot2\", {}).get(\"value\", \"\"),\n",
    "                \"Species 2\": result.get(\"species2\", {}).get(\"value\", \"\")\n",
    "            })\n",
    "    return pd.DataFrame(data)"
   ]
  },
  {
   "cell_type": "markdown",
   "id": "5719740a",
   "metadata": {},
   "source": [
    "## 3.4 OMA query"
   ]
  },
  {
   "cell_type": "code",
   "execution_count": null,
   "id": "585fdb8f",
   "metadata": {},
   "outputs": [],
   "source": [
    "def query_OMA(sparql, uniprot_id, species1, species2):\n",
    "    query = f\"\"\"\n",
    "    PREFIX obo:<http://purl.obolibrary.org/obo/>\n",
    "    PREFIX orth:<http://purl.org/net/orth#>\n",
    "    PREFIX lscr:<http://purl.org/lscr#>\n",
    "    PREFIX up:<http://purl.uniprot.org/core/>\n",
    "    PREFIX dct: <http://purl.org/dc/terms/>\n",
    "\n",
    "    SELECT DISTINCT ?name_prot1 ?name_species1 ?name_prot2 ?name_species2\n",
    "    WHERE {{\n",
    "        ?cluster a orth:OrthologsCluster ;\n",
    "            orth:hasHomologousMember ?node1 ;\n",
    "            orth:hasHomologousMember ?node2 .\n",
    "        ?node1 orth:hasHomologousMember* ?protein1 .\n",
    "        ?node2 orth:hasHomologousMember* ?protein2 .\n",
    "        ?protein1 a orth:Protein ;\n",
    "            orth:organism ?taxid1 ;\n",
    "            lscr:xrefUniprot ?iduniprot1 .\n",
    "        ?taxid1 obo:RO_0002162 ?taxon1 .\n",
    "        ?taxon1 up:scientificName ?name_species1 .\n",
    "        ?iduniprot1 dct:identifier ?name_prot1 .\n",
    "        ?protein2 a orth:Protein ;\n",
    "            orth:organism ?taxid2 ;\n",
    "            lscr:xrefUniprot ?iduniprot2 .\n",
    "        ?taxid2 obo:RO_0002162 ?taxon2 .\n",
    "        ?taxon2 up:scientificName ?name_species2 .\n",
    "        ?iduniprot2 dct:identifier ?name_prot2 .\n",
    "        FILTER (?node1 != ?node2 && ?taxid1 != ?taxid2)\n",
    "        VALUES (?name_species1 ?name_species2 ?name_prot1) {{ \n",
    "            (\"{species1}\" \"{species2}\" \"{uniprot_id}\")  \n",
    "        }}\n",
    "    }}\n",
    "    \"\"\"\n",
    "\n",
    "    results = execute_query(sparql, query)\n",
    "    data = []\n",
    "    if results:\n",
    "        for result in results[\"results\"][\"bindings\"]:\n",
    "            data.append({\n",
    "                \"UniProt ID 1\": result.get(\"name_prot1\", {}).get(\"value\", \"\"),\n",
    "                \"Species 1\": result.get(\"name_species1\", {}).get(\"value\", \"\"),\n",
    "                \"UniProt ID 2\": result.get(\"name_prot2\", {}).get(\"value\", \"\"),\n",
    "                \"Species 2\": result.get(\"name_species2\", {}).get(\"value\", \"\")\n",
    "            })\n",
    "    return pd.DataFrame(data)"
   ]
  },
  {
   "cell_type": "markdown",
   "id": "43f3c517",
   "metadata": {},
   "source": [
    "## 3.5 Curation of proteins"
   ]
  },
  {
   "cell_type": "code",
   "execution_count": null,
   "id": "4cd29b3d",
   "metadata": {},
   "outputs": [],
   "source": [
    "def is_curated(protein_id):\n",
    "    url = f\"https://rest.uniprot.org/uniprotkb/{protein_id}.json\"\n",
    "    response = requests.get(url)\n",
    "    \n",
    "    if response.status_code == 200:\n",
    "        data = response.json()\n",
    "        entry_type = data.get(\"entryType\", \"\")\n",
    "        return \"reviewed (Swiss-Prot)\" in entry_type\n",
    "    else:\n",
    "        #If the entrance cannot be accessed it assume it is not cured\n",
    "        return False"
   ]
  },
  {
   "cell_type": "markdown",
   "id": "4d36a3f9",
   "metadata": {},
   "source": [
    "## 3.6 Assigning a score to each result"
   ]
  },
  {
   "cell_type": "code",
   "execution_count": null,
   "id": "d3e0c42e",
   "metadata": {},
   "outputs": [],
   "source": [
    "def assign_score(row, total_databases):\n",
    "    score_count = (row['Count'] / total_databases) * 100\n",
    "    if row['Curated']:\n",
    "        score_curated = 50\n",
    "    else:\n",
    "        score_curated = 0  #Asigna 50 puntos si está curada, 0 si no lo está\n",
    "    total_score = 0.5 * score_count + score_curated\n",
    "    return total_score"
   ]
  },
  {
   "cell_type": "markdown",
   "id": "1f1cbfb7",
   "metadata": {},
   "source": [
    "## 3.7 Check name species"
   ]
  },
  {
   "cell_type": "code",
   "execution_count": null,
   "id": "29716672",
   "metadata": {},
   "outputs": [],
   "source": [
    "def check_species(species):\n",
    "    while True:\n",
    "        parts_species = species.split()\n",
    "        if len(parts_species) == 2:\n",
    "            genus, species_name = parts_species\n",
    "            if genus[0].isupper() and genus[1:].islower() and species_name.islower():\n",
    "                break\n",
    "        return print(\"Error: The entry must be in format Genus species (for example, Homo sapines). Try again\")"
   ]
  },
  {
   "cell_type": "markdown",
   "id": "a163ed02",
   "metadata": {},
   "source": [
    "# 4. Configuring GraphDB connection"
   ]
  },
  {
   "cell_type": "code",
   "execution_count": null,
   "id": "f1d1dc20",
   "metadata": {},
   "outputs": [],
   "source": [
    "sparql_inparanoid = configure_sparql(\"https://semantics.inf.um.es:7200/repositories/orthoxml\",\"admin\", \"minegraph\")\n",
    "sparql_oma = configure_sparql(\"https://sparql.omabrowser.org/sparql\")"
   ]
  },
  {
   "cell_type": "markdown",
   "id": "b9dec07a",
   "metadata": {},
   "source": [
    "# 5. Enter the species and Uniprot ID for the search of ortholog genes"
   ]
  },
  {
   "cell_type": "code",
   "execution_count": null,
   "id": "0b83b1c6",
   "metadata": {},
   "outputs": [],
   "source": [
    "species1 = input(\"Enter the first species for which you want to search for ortholog genes\")\n",
    "uniprot_id = input(\"Enter the Uniprot ID of the first especies for the orthologs you want to search for in the second species\") \n",
    "species2 = input(\"Enter the second species for which you want to search for ortholog genes\")\n",
    "\n",
    "check_species(species1)\n",
    "if uniprot_id.isupper() is False:\n",
    "    print(\"Error. Enter a valid Uniprot ID in capital letters\")\n",
    "check_species(species2)"
   ]
  },
  {
   "cell_type": "code",
   "execution_count": 8,
   "id": "1faef7b5",
   "metadata": {},
   "outputs": [
    {
     "ename": "NameError",
     "evalue": "name 'query_InParanoid' is not defined",
     "output_type": "error",
     "traceback": [
      "\u001b[0;31m---------------------------------------------------------------------------\u001b[0m",
      "\u001b[0;31mNameError\u001b[0m                                 Traceback (most recent call last)",
      "\u001b[0;32m<ipython-input-8-3c88c33cd5a0>\u001b[0m in \u001b[0;36m<module>\u001b[0;34m\u001b[0m\n\u001b[0;32m----> 1\u001b[0;31m \u001b[0mresults_inparanoid\u001b[0m \u001b[0;34m=\u001b[0m \u001b[0mquery_InParanoid\u001b[0m\u001b[0;34m(\u001b[0m\u001b[0msparql_inparanoid\u001b[0m\u001b[0;34m,\u001b[0m \u001b[0muniprot_id\u001b[0m\u001b[0;34m,\u001b[0m \u001b[0mspecies1\u001b[0m\u001b[0;34m,\u001b[0m \u001b[0mspecies2\u001b[0m\u001b[0;34m)\u001b[0m\u001b[0;34m\u001b[0m\u001b[0;34m\u001b[0m\u001b[0m\n\u001b[0m\u001b[1;32m      2\u001b[0m \u001b[0mresults_inparanoid\u001b[0m\u001b[0;34m[\u001b[0m\u001b[0;34m'source'\u001b[0m\u001b[0;34m]\u001b[0m \u001b[0;34m=\u001b[0m \u001b[0;34m'InParanoid'\u001b[0m\u001b[0;34m\u001b[0m\u001b[0;34m\u001b[0m\u001b[0m\n\u001b[1;32m      3\u001b[0m \u001b[0mresults_oma\u001b[0m \u001b[0;34m=\u001b[0m \u001b[0mquery_OMA\u001b[0m\u001b[0;34m(\u001b[0m\u001b[0msparql_oma\u001b[0m\u001b[0;34m,\u001b[0m \u001b[0muniprot_id\u001b[0m\u001b[0;34m,\u001b[0m \u001b[0mspecies1\u001b[0m\u001b[0;34m,\u001b[0m \u001b[0mspecies2\u001b[0m\u001b[0;34m)\u001b[0m\u001b[0;34m\u001b[0m\u001b[0;34m\u001b[0m\u001b[0m\n\u001b[1;32m      4\u001b[0m \u001b[0mresults_oma\u001b[0m\u001b[0;34m[\u001b[0m\u001b[0;34m'source'\u001b[0m\u001b[0;34m]\u001b[0m \u001b[0;34m=\u001b[0m \u001b[0;34m'OMA'\u001b[0m\u001b[0;34m\u001b[0m\u001b[0;34m\u001b[0m\u001b[0m\n\u001b[1;32m      5\u001b[0m \u001b[0;34m\u001b[0m\u001b[0m\n",
      "\u001b[0;31mNameError\u001b[0m: name 'query_InParanoid' is not defined"
     ]
    }
   ],
   "source": [
    "results_inparanoid = query_InParanoid(sparql_inparanoid, uniprot_id, species1, species2)\n",
    "results_inparanoid['source'] = 'InParanoid'\n",
    "results_oma = query_OMA(sparql_oma, uniprot_id, species1, species2)\n",
    "results_oma['source'] = 'OMA'\n",
    "\n",
    "combined_df = pd.concat([results_oma, results_inparanoid], ignore_index=True)\n",
    "combined_df"
   ]
  },
  {
   "cell_type": "markdown",
   "id": "1fb2cc69",
   "metadata": {},
   "source": [
    "# 6. Counting orthologous gene ocurrences in each database "
   ]
  },
  {
   "cell_type": "code",
   "execution_count": null,
   "id": "5b2b7930",
   "metadata": {},
   "outputs": [],
   "source": [
    "ortholog_counts = combined_df['UniProt ID 2'].value_counts().reset_index()\n",
    "ortholog_counts.columns = ['UniProt ID 2', 'Count']"
   ]
  },
  {
   "cell_type": "markdown",
   "id": "815566d0",
   "metadata": {},
   "source": [
    "# 7. Add column to check curated proteins"
   ]
  },
  {
   "cell_type": "code",
   "execution_count": null,
   "id": "c5e8853e",
   "metadata": {},
   "outputs": [],
   "source": [
    "ortholog_counts['Curated'] = ortholog_counts['UniProt ID 2'].apply(is_curated)\n",
    "ortholog_counts"
   ]
  },
  {
   "cell_type": "markdown",
   "id": "c37745f2",
   "metadata": {},
   "source": [
    "# 8. Counting number of databases and applying score"
   ]
  },
  {
   "cell_type": "code",
   "execution_count": null,
   "id": "b3167b17",
   "metadata": {},
   "outputs": [],
   "source": [
    "#Count databases number\n",
    "num_databases = combined_df['source'].nunique()\n",
    "\n",
    "\n",
    "#Apply score function\n",
    "ortholog_counts['Reliability score'] = ortholog_counts.apply(assign_score, total_databases=num_databases, axis=1)\n",
    "ortholog_counts"
   ]
  },
  {
   "cell_type": "markdown",
   "id": "c3c77149",
   "metadata": {},
   "source": [
    "# 9. Sorting results in descending order"
   ]
  },
  {
   "cell_type": "code",
   "execution_count": null,
   "id": "1c54e86a",
   "metadata": {},
   "outputs": [],
   "source": [
    "#Ordenar los resultados en orden descendente\n",
    "ortholog_counts = ortholog_counts.sort_values(by='Reliability score', ascending=False)\n",
    "\n",
    "#Mostrar los resultados finales\n",
    "ortholog_counts"
   ]
  }
 ],
 "metadata": {
  "kernelspec": {
   "display_name": "Python3.6",
   "language": "python",
   "name": "python3.6"
  },
  "language_info": {
   "codemirror_mode": {
    "name": "ipython",
    "version": 3
   },
   "file_extension": ".py",
   "mimetype": "text/x-python",
   "name": "python",
   "nbconvert_exporter": "python",
   "pygments_lexer": "ipython3",
   "version": "3.6.8"
  }
 },
 "nbformat": 4,
 "nbformat_minor": 5
}
